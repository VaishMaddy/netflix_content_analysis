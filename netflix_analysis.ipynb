{
 "cells": [
  {
   "cell_type": "code",
   "execution_count": 2,
   "id": "191ec80d-87be-477f-bf6d-05eab1243b95",
   "metadata": {},
   "outputs": [
    {
     "ename": "OSError",
     "evalue": "'seaborn' is not a valid package style, path of style file, URL of style file, or library style name (library styles are listed in `style.available`)",
     "output_type": "error",
     "traceback": [
      "\u001b[0;31m---------------------------------------------------------------------------\u001b[0m",
      "\u001b[0;31mFileNotFoundError\u001b[0m                         Traceback (most recent call last)",
      "File \u001b[0;32m/opt/anaconda3/lib/python3.11/site-packages/matplotlib/style/core.py:137\u001b[0m, in \u001b[0;36muse\u001b[0;34m(style)\u001b[0m\n\u001b[1;32m    136\u001b[0m \u001b[38;5;28;01mtry\u001b[39;00m:\n\u001b[0;32m--> 137\u001b[0m     style \u001b[38;5;241m=\u001b[39m _rc_params_in_file(style)\n\u001b[1;32m    138\u001b[0m \u001b[38;5;28;01mexcept\u001b[39;00m \u001b[38;5;167;01mOSError\u001b[39;00m \u001b[38;5;28;01mas\u001b[39;00m err:\n",
      "File \u001b[0;32m/opt/anaconda3/lib/python3.11/site-packages/matplotlib/__init__.py:866\u001b[0m, in \u001b[0;36m_rc_params_in_file\u001b[0;34m(fname, transform, fail_on_error)\u001b[0m\n\u001b[1;32m    865\u001b[0m rc_temp \u001b[38;5;241m=\u001b[39m {}\n\u001b[0;32m--> 866\u001b[0m \u001b[38;5;28;01mwith\u001b[39;00m _open_file_or_url(fname) \u001b[38;5;28;01mas\u001b[39;00m fd:\n\u001b[1;32m    867\u001b[0m     \u001b[38;5;28;01mtry\u001b[39;00m:\n",
      "File \u001b[0;32m/opt/anaconda3/lib/python3.11/contextlib.py:137\u001b[0m, in \u001b[0;36m_GeneratorContextManager.__enter__\u001b[0;34m(self)\u001b[0m\n\u001b[1;32m    136\u001b[0m \u001b[38;5;28;01mtry\u001b[39;00m:\n\u001b[0;32m--> 137\u001b[0m     \u001b[38;5;28;01mreturn\u001b[39;00m \u001b[38;5;28mnext\u001b[39m(\u001b[38;5;28mself\u001b[39m\u001b[38;5;241m.\u001b[39mgen)\n\u001b[1;32m    138\u001b[0m \u001b[38;5;28;01mexcept\u001b[39;00m \u001b[38;5;167;01mStopIteration\u001b[39;00m:\n",
      "File \u001b[0;32m/opt/anaconda3/lib/python3.11/site-packages/matplotlib/__init__.py:843\u001b[0m, in \u001b[0;36m_open_file_or_url\u001b[0;34m(fname)\u001b[0m\n\u001b[1;32m    842\u001b[0m fname \u001b[38;5;241m=\u001b[39m os\u001b[38;5;241m.\u001b[39mpath\u001b[38;5;241m.\u001b[39mexpanduser(fname)\n\u001b[0;32m--> 843\u001b[0m \u001b[38;5;28;01mwith\u001b[39;00m \u001b[38;5;28mopen\u001b[39m(fname, encoding\u001b[38;5;241m=\u001b[39m\u001b[38;5;124m'\u001b[39m\u001b[38;5;124mutf-8\u001b[39m\u001b[38;5;124m'\u001b[39m) \u001b[38;5;28;01mas\u001b[39;00m f:\n\u001b[1;32m    844\u001b[0m     \u001b[38;5;28;01myield\u001b[39;00m f\n",
      "\u001b[0;31mFileNotFoundError\u001b[0m: [Errno 2] No such file or directory: 'seaborn'",
      "\nThe above exception was the direct cause of the following exception:\n",
      "\u001b[0;31mOSError\u001b[0m                                   Traceback (most recent call last)",
      "Cell \u001b[0;32mIn[2], line 10\u001b[0m\n\u001b[1;32m      7\u001b[0m get_ipython()\u001b[38;5;241m.\u001b[39mrun_line_magic(\u001b[38;5;124m'\u001b[39m\u001b[38;5;124mmatplotlib\u001b[39m\u001b[38;5;124m'\u001b[39m, \u001b[38;5;124m'\u001b[39m\u001b[38;5;124minline\u001b[39m\u001b[38;5;124m'\u001b[39m)\n\u001b[1;32m      9\u001b[0m \u001b[38;5;66;03m# Set style for better visualizations\u001b[39;00m\n\u001b[0;32m---> 10\u001b[0m plt\u001b[38;5;241m.\u001b[39mstyle\u001b[38;5;241m.\u001b[39muse(\u001b[38;5;124m'\u001b[39m\u001b[38;5;124mseaborn\u001b[39m\u001b[38;5;124m'\u001b[39m)\n\u001b[1;32m     11\u001b[0m sns\u001b[38;5;241m.\u001b[39mset_palette(\u001b[38;5;124m\"\u001b[39m\u001b[38;5;124mdeep\u001b[39m\u001b[38;5;124m\"\u001b[39m)\n\u001b[1;32m     12\u001b[0m plt\u001b[38;5;241m.\u001b[39mrcParams[\u001b[38;5;124m'\u001b[39m\u001b[38;5;124mfigure.figsize\u001b[39m\u001b[38;5;124m'\u001b[39m] \u001b[38;5;241m=\u001b[39m [\u001b[38;5;241m12\u001b[39m, \u001b[38;5;241m7\u001b[39m]\n",
      "File \u001b[0;32m/opt/anaconda3/lib/python3.11/site-packages/matplotlib/style/core.py:139\u001b[0m, in \u001b[0;36muse\u001b[0;34m(style)\u001b[0m\n\u001b[1;32m    137\u001b[0m         style \u001b[38;5;241m=\u001b[39m _rc_params_in_file(style)\n\u001b[1;32m    138\u001b[0m     \u001b[38;5;28;01mexcept\u001b[39;00m \u001b[38;5;167;01mOSError\u001b[39;00m \u001b[38;5;28;01mas\u001b[39;00m err:\n\u001b[0;32m--> 139\u001b[0m         \u001b[38;5;28;01mraise\u001b[39;00m \u001b[38;5;167;01mOSError\u001b[39;00m(\n\u001b[1;32m    140\u001b[0m             \u001b[38;5;124mf\u001b[39m\u001b[38;5;124m\"\u001b[39m\u001b[38;5;132;01m{\u001b[39;00mstyle\u001b[38;5;132;01m!r}\u001b[39;00m\u001b[38;5;124m is not a valid package style, path of style \u001b[39m\u001b[38;5;124m\"\u001b[39m\n\u001b[1;32m    141\u001b[0m             \u001b[38;5;124mf\u001b[39m\u001b[38;5;124m\"\u001b[39m\u001b[38;5;124mfile, URL of style file, or library style name (library \u001b[39m\u001b[38;5;124m\"\u001b[39m\n\u001b[1;32m    142\u001b[0m             \u001b[38;5;124mf\u001b[39m\u001b[38;5;124m\"\u001b[39m\u001b[38;5;124mstyles are listed in `style.available`)\u001b[39m\u001b[38;5;124m\"\u001b[39m) \u001b[38;5;28;01mfrom\u001b[39;00m \u001b[38;5;21;01merr\u001b[39;00m\n\u001b[1;32m    143\u001b[0m filtered \u001b[38;5;241m=\u001b[39m {}\n\u001b[1;32m    144\u001b[0m \u001b[38;5;28;01mfor\u001b[39;00m k \u001b[38;5;129;01min\u001b[39;00m style:  \u001b[38;5;66;03m# don't trigger RcParams.__getitem__('backend')\u001b[39;00m\n",
      "\u001b[0;31mOSError\u001b[0m: 'seaborn' is not a valid package style, path of style file, URL of style file, or library style name (library styles are listed in `style.available`)"
     ]
    }
   ],
   "source": [
    "# Import necessary libraries\n",
    "import pandas as pd\n",
    "import numpy as np\n",
    "import matplotlib.pyplot as plt\n",
    "import seaborn as sns\n",
    "from datetime import datetime\n",
    "%matplotlib inline\n",
    "\n",
    "# Set style for better visualizations\n",
    "plt.style.use('seaborn')\n",
    "sns.set_palette(\"deep\")\n",
    "plt.rcParams['figure.figsize'] = [12, 7]\n",
    "\n",
    "# Load the data\n",
    "df = pd.read_csv('netflix_titles.csv')\n",
    "\n",
    "# Initial data cleaning\n",
    "df['date_added'] = pd.to_datetime(df['date_added'])\n",
    "df['year_added'] = df['date_added'].dt.year\n",
    "df['month_added'] = df['date_added'].dt.month\n",
    "df['country'] = df['country'].fillna('Unknown')\n",
    "df['duration'] = df['duration'].fillna('No Data')\n",
    "df['cast'] = df['cast'].fillna('No Cast Listed')\n",
    "df['director'] = df['director'].fillna('No Director Listed')\n",
    "\n",
    "# Create primary country (first listed country for each show)\n",
    "df['primary_country'] = df['country'].str.split(',').str[0].str.strip()"
   ]
  },
  {
   "cell_type": "code",
   "execution_count": 4,
   "id": "4db0d0ec-0766-481c-86dd-bf880e7b822e",
   "metadata": {},
   "outputs": [
    {
     "ename": "NameError",
     "evalue": "name 'df' is not defined",
     "output_type": "error",
     "traceback": [
      "\u001b[0;31m---------------------------------------------------------------------------\u001b[0m",
      "\u001b[0;31mNameError\u001b[0m                                 Traceback (most recent call last)",
      "Cell \u001b[0;32mIn[4], line 3\u001b[0m\n\u001b[1;32m      1\u001b[0m \u001b[38;5;66;03m# Content Type Analysis\u001b[39;00m\n\u001b[1;32m      2\u001b[0m plt\u001b[38;5;241m.\u001b[39mfigure(figsize\u001b[38;5;241m=\u001b[39m(\u001b[38;5;241m10\u001b[39m, \u001b[38;5;241m6\u001b[39m))\n\u001b[0;32m----> 3\u001b[0m content_dist \u001b[38;5;241m=\u001b[39m df[\u001b[38;5;124m'\u001b[39m\u001b[38;5;124mtype\u001b[39m\u001b[38;5;124m'\u001b[39m]\u001b[38;5;241m.\u001b[39mvalue_counts()\n\u001b[1;32m      4\u001b[0m plt\u001b[38;5;241m.\u001b[39mpie(content_dist, labels\u001b[38;5;241m=\u001b[39mcontent_dist\u001b[38;5;241m.\u001b[39mindex, autopct\u001b[38;5;241m=\u001b[39m\u001b[38;5;124m'\u001b[39m\u001b[38;5;132;01m%1.1f\u001b[39;00m\u001b[38;5;132;01m%%\u001b[39;00m\u001b[38;5;124m'\u001b[39m, colors\u001b[38;5;241m=\u001b[39m[\u001b[38;5;124m'\u001b[39m\u001b[38;5;124m#E50914\u001b[39m\u001b[38;5;124m'\u001b[39m, \u001b[38;5;124m'\u001b[39m\u001b[38;5;124m#221F1F\u001b[39m\u001b[38;5;124m'\u001b[39m])\n\u001b[1;32m      5\u001b[0m plt\u001b[38;5;241m.\u001b[39mtitle(\u001b[38;5;124m'\u001b[39m\u001b[38;5;124mNetflix Content Distribution: Movies vs TV Shows\u001b[39m\u001b[38;5;124m'\u001b[39m)\n",
      "\u001b[0;31mNameError\u001b[0m: name 'df' is not defined"
     ]
    },
    {
     "data": {
      "text/plain": [
       "<Figure size 1000x600 with 0 Axes>"
      ]
     },
     "metadata": {},
     "output_type": "display_data"
    }
   ],
   "source": [
    "# Content Type Analysis\n",
    "plt.figure(figsize=(10, 6))\n",
    "content_dist = df['type'].value_counts()\n",
    "plt.pie(content_dist, labels=content_dist.index, autopct='%1.1f%%', colors=['#E50914', '#221F1F'])\n",
    "plt.title('Netflix Content Distribution: Movies vs TV Shows')\n",
    "plt.show()\n",
    "\n",
    "# Print summary\n",
    "print(\"\\nContent Distribution Summary:\")\n",
    "print(\"-\" * 30)\n",
    "for content_type, count in content_dist.items():\n",
    "    print(f\"{content_type}: {count:,} ({count/len(df)*100:.1f}%)\")"
   ]
  },
  {
   "cell_type": "code",
   "execution_count": 6,
   "id": "a609b82d-d756-47b7-adeb-6036a12a2f3e",
   "metadata": {},
   "outputs": [
    {
     "ename": "NameError",
     "evalue": "name 'df' is not defined",
     "output_type": "error",
     "traceback": [
      "\u001b[0;31m---------------------------------------------------------------------------\u001b[0m",
      "\u001b[0;31mNameError\u001b[0m                                 Traceback (most recent call last)",
      "Cell \u001b[0;32mIn[6], line 2\u001b[0m\n\u001b[1;32m      1\u001b[0m \u001b[38;5;66;03m# Yearly content addition analysis\u001b[39;00m\n\u001b[0;32m----> 2\u001b[0m yearly_content \u001b[38;5;241m=\u001b[39m df\u001b[38;5;241m.\u001b[39mgroupby([\u001b[38;5;124m'\u001b[39m\u001b[38;5;124myear_added\u001b[39m\u001b[38;5;124m'\u001b[39m, \u001b[38;5;124m'\u001b[39m\u001b[38;5;124mtype\u001b[39m\u001b[38;5;124m'\u001b[39m])\u001b[38;5;241m.\u001b[39msize()\u001b[38;5;241m.\u001b[39munstack()\n\u001b[1;32m      3\u001b[0m plt\u001b[38;5;241m.\u001b[39mfigure(figsize\u001b[38;5;241m=\u001b[39m(\u001b[38;5;241m12\u001b[39m, \u001b[38;5;241m6\u001b[39m))\n\u001b[1;32m      4\u001b[0m yearly_content\u001b[38;5;241m.\u001b[39mplot(kind\u001b[38;5;241m=\u001b[39m\u001b[38;5;124m'\u001b[39m\u001b[38;5;124mbar\u001b[39m\u001b[38;5;124m'\u001b[39m, stacked\u001b[38;5;241m=\u001b[39m\u001b[38;5;28;01mTrue\u001b[39;00m)\n",
      "\u001b[0;31mNameError\u001b[0m: name 'df' is not defined"
     ]
    }
   ],
   "source": [
    "# Yearly content addition analysis\n",
    "yearly_content = df.groupby(['year_added', 'type']).size().unstack()\n",
    "plt.figure(figsize=(12, 6))\n",
    "yearly_content.plot(kind='bar', stacked=True)\n",
    "plt.title('Netflix Content Addition Over Years')\n",
    "plt.xlabel('Year')\n",
    "plt.ylabel('Number of Titles Added')\n",
    "plt.legend(title='Content Type')\n",
    "plt.xticks(rotation=45)\n",
    "plt.show()\n",
    "\n",
    "# Print growth stats\n",
    "print(\"\\nContent Growth Summary:\")\n",
    "print(\"-\" * 30)\n",
    "print(f\"Peak Year: {yearly_content.sum(axis=1).idxmax()} with {yearly_content.sum(axis=1).max():,} titles\")"
   ]
  },
  {
   "cell_type": "code",
   "execution_count": 8,
   "id": "79c0d9e0-7dcd-4242-8b02-fc977cee6a83",
   "metadata": {},
   "outputs": [
    {
     "ename": "NameError",
     "evalue": "name 'df' is not defined",
     "output_type": "error",
     "traceback": [
      "\u001b[0;31m---------------------------------------------------------------------------\u001b[0m",
      "\u001b[0;31mNameError\u001b[0m                                 Traceback (most recent call last)",
      "Cell \u001b[0;32mIn[8], line 3\u001b[0m\n\u001b[1;32m      1\u001b[0m \u001b[38;5;66;03m# Top 10 countries by content production\u001b[39;00m\n\u001b[1;32m      2\u001b[0m plt\u001b[38;5;241m.\u001b[39mfigure(figsize\u001b[38;5;241m=\u001b[39m(\u001b[38;5;241m12\u001b[39m, \u001b[38;5;241m6\u001b[39m))\n\u001b[0;32m----> 3\u001b[0m top_countries \u001b[38;5;241m=\u001b[39m df[\u001b[38;5;124m'\u001b[39m\u001b[38;5;124mprimary_country\u001b[39m\u001b[38;5;124m'\u001b[39m]\u001b[38;5;241m.\u001b[39mvalue_counts()\u001b[38;5;241m.\u001b[39mhead(\u001b[38;5;241m10\u001b[39m)\n\u001b[1;32m      4\u001b[0m sns\u001b[38;5;241m.\u001b[39mbarplot(x\u001b[38;5;241m=\u001b[39mtop_countries\u001b[38;5;241m.\u001b[39mvalues, y\u001b[38;5;241m=\u001b[39mtop_countries\u001b[38;5;241m.\u001b[39mindex)\n\u001b[1;32m      5\u001b[0m plt\u001b[38;5;241m.\u001b[39mtitle(\u001b[38;5;124m'\u001b[39m\u001b[38;5;124mTop 10 Countries by Content Production\u001b[39m\u001b[38;5;124m'\u001b[39m)\n",
      "\u001b[0;31mNameError\u001b[0m: name 'df' is not defined"
     ]
    },
    {
     "data": {
      "text/plain": [
       "<Figure size 1200x600 with 0 Axes>"
      ]
     },
     "metadata": {},
     "output_type": "display_data"
    }
   ],
   "source": [
    "# Top 10 countries by content production\n",
    "plt.figure(figsize=(12, 6))\n",
    "top_countries = df['primary_country'].value_counts().head(10)\n",
    "sns.barplot(x=top_countries.values, y=top_countries.index)\n",
    "plt.title('Top 10 Countries by Content Production')\n",
    "plt.xlabel('Number of Titles')\n",
    "plt.show()\n",
    "\n",
    "# Print country stats\n",
    "print(\"\\nGeographic Distribution Summary:\")\n",
    "print(\"-\" * 30)\n",
    "print(\"Top 5 Content Producing Countries:\")\n",
    "for country, count in top_countries.head().items():\n",
    "    print(f\"{country}: {count:,} titles\")"
   ]
  },
  {
   "cell_type": "code",
   "execution_count": 10,
   "id": "ddcf0472-5266-4f38-bf81-6fb5e8c77be7",
   "metadata": {},
   "outputs": [
    {
     "ename": "NameError",
     "evalue": "name 'df' is not defined",
     "output_type": "error",
     "traceback": [
      "\u001b[0;31m---------------------------------------------------------------------------\u001b[0m",
      "\u001b[0;31mNameError\u001b[0m                                 Traceback (most recent call last)",
      "Cell \u001b[0;32mIn[10], line 2\u001b[0m\n\u001b[1;32m      1\u001b[0m \u001b[38;5;66;03m# Split genres (listed_in) and get distribution\u001b[39;00m\n\u001b[0;32m----> 2\u001b[0m genres \u001b[38;5;241m=\u001b[39m df[\u001b[38;5;124m'\u001b[39m\u001b[38;5;124mlisted_in\u001b[39m\u001b[38;5;124m'\u001b[39m]\u001b[38;5;241m.\u001b[39mstr\u001b[38;5;241m.\u001b[39msplit(\u001b[38;5;124m'\u001b[39m\u001b[38;5;124m,\u001b[39m\u001b[38;5;124m'\u001b[39m, expand\u001b[38;5;241m=\u001b[39m\u001b[38;5;28;01mTrue\u001b[39;00m)\u001b[38;5;241m.\u001b[39mstack()\u001b[38;5;241m.\u001b[39mstr\u001b[38;5;241m.\u001b[39mstrip()\n\u001b[1;32m      3\u001b[0m top_genres \u001b[38;5;241m=\u001b[39m genres\u001b[38;5;241m.\u001b[39mvalue_counts()\u001b[38;5;241m.\u001b[39mhead(\u001b[38;5;241m10\u001b[39m)\n\u001b[1;32m      5\u001b[0m plt\u001b[38;5;241m.\u001b[39mfigure(figsize\u001b[38;5;241m=\u001b[39m(\u001b[38;5;241m12\u001b[39m, \u001b[38;5;241m6\u001b[39m))\n",
      "\u001b[0;31mNameError\u001b[0m: name 'df' is not defined"
     ]
    }
   ],
   "source": [
    "# Split genres (listed_in) and get distribution\n",
    "genres = df['listed_in'].str.split(',', expand=True).stack().str.strip()\n",
    "top_genres = genres.value_counts().head(10)\n",
    "\n",
    "plt.figure(figsize=(12, 6))\n",
    "sns.barplot(x=top_genres.values, y=top_genres.index, palette='Reds_r')\n",
    "plt.title('Top 10 Netflix Genres')\n",
    "plt.xlabel('Number of Titles')\n",
    "plt.show()\n",
    "\n",
    "# Print genre insights\n",
    "print(\"\\nGenre Distribution Summary:\")\n",
    "print(\"-\" * 30)\n",
    "print(\"Top 5 Genres:\")\n",
    "for genre, count in top_genres.head().items():\n",
    "    print(f\"{genre}: {count:,} titles\")"
   ]
  },
  {
   "cell_type": "code",
   "execution_count": 12,
   "id": "c4d21089-0fdc-4668-812a-a6043a176a08",
   "metadata": {},
   "outputs": [
    {
     "ename": "NameError",
     "evalue": "name 'df' is not defined",
     "output_type": "error",
     "traceback": [
      "\u001b[0;31m---------------------------------------------------------------------------\u001b[0m",
      "\u001b[0;31mNameError\u001b[0m                                 Traceback (most recent call last)",
      "Cell \u001b[0;32mIn[12], line 3\u001b[0m\n\u001b[1;32m      1\u001b[0m \u001b[38;5;66;03m# Separate movies and TV shows for duration analysis\u001b[39;00m\n\u001b[1;32m      2\u001b[0m \u001b[38;5;66;03m# Movies (convert to numeric)\u001b[39;00m\n\u001b[0;32m----> 3\u001b[0m movies_duration \u001b[38;5;241m=\u001b[39m df[df[\u001b[38;5;124m'\u001b[39m\u001b[38;5;124mtype\u001b[39m\u001b[38;5;124m'\u001b[39m] \u001b[38;5;241m==\u001b[39m \u001b[38;5;124m'\u001b[39m\u001b[38;5;124mMovie\u001b[39m\u001b[38;5;124m'\u001b[39m][\u001b[38;5;124m'\u001b[39m\u001b[38;5;124mduration\u001b[39m\u001b[38;5;124m'\u001b[39m]\u001b[38;5;241m.\u001b[39mstr\u001b[38;5;241m.\u001b[39mextract(\u001b[38;5;124m'\u001b[39m\u001b[38;5;124m(\u001b[39m\u001b[38;5;124m\\\u001b[39m\u001b[38;5;124md+)\u001b[39m\u001b[38;5;124m'\u001b[39m)\u001b[38;5;241m.\u001b[39mastype(\u001b[38;5;28mfloat\u001b[39m)\n\u001b[1;32m      4\u001b[0m tv_duration \u001b[38;5;241m=\u001b[39m df[df[\u001b[38;5;124m'\u001b[39m\u001b[38;5;124mtype\u001b[39m\u001b[38;5;124m'\u001b[39m] \u001b[38;5;241m==\u001b[39m \u001b[38;5;124m'\u001b[39m\u001b[38;5;124mTV Show\u001b[39m\u001b[38;5;124m'\u001b[39m][\u001b[38;5;124m'\u001b[39m\u001b[38;5;124mduration\u001b[39m\u001b[38;5;124m'\u001b[39m]\u001b[38;5;241m.\u001b[39mstr\u001b[38;5;241m.\u001b[39mextract(\u001b[38;5;124m'\u001b[39m\u001b[38;5;124m(\u001b[39m\u001b[38;5;124m\\\u001b[39m\u001b[38;5;124md+)\u001b[39m\u001b[38;5;124m'\u001b[39m)\u001b[38;5;241m.\u001b[39mastype(\u001b[38;5;28mfloat\u001b[39m)\n\u001b[1;32m      6\u001b[0m plt\u001b[38;5;241m.\u001b[39mfigure(figsize\u001b[38;5;241m=\u001b[39m(\u001b[38;5;241m12\u001b[39m, \u001b[38;5;241m6\u001b[39m))\n",
      "\u001b[0;31mNameError\u001b[0m: name 'df' is not defined"
     ]
    }
   ],
   "source": [
    "# Separate movies and TV shows for duration analysis\n",
    "# Movies (convert to numeric)\n",
    "movies_duration = df[df['type'] == 'Movie']['duration'].str.extract('(\\d+)').astype(float)\n",
    "tv_duration = df[df['type'] == 'TV Show']['duration'].str.extract('(\\d+)').astype(float)\n",
    "\n",
    "plt.figure(figsize=(12, 6))\n",
    "plt.subplot(1, 2, 1)\n",
    "plt.hist(movies_duration, bins=30, color='#E50914', alpha=0.7)\n",
    "plt.title('Movie Duration Distribution (minutes)')\n",
    "plt.xlabel('Duration (minutes)')\n",
    "\n",
    "plt.subplot(1, 2, 2)\n",
    "plt.hist(tv_duration, bins=20, color='#221F1F', alpha=0.7)\n",
    "plt.title('TV Show Duration Distribution (seasons)')\n",
    "plt.xlabel('Number of Seasons')\n",
    "plt.tight_layout()\n",
    "plt.show()\n",
    "\n",
    "# Print duration insights\n",
    "print(\"\\nDuration Analysis:\")\n",
    "print(\"-\" * 30)\n",
    "print(f\"Average Movie Duration: {movies_duration.mean():.1f} minutes\")\n",
    "print(f\"Average TV Show Duration: {tv_duration.mean():.1f} seasons\")"
   ]
  },
  {
   "cell_type": "code",
   "execution_count": 14,
   "id": "0066e83d-d003-4bd8-a370-357692660b61",
   "metadata": {},
   "outputs": [
    {
     "ename": "NameError",
     "evalue": "name 'df' is not defined",
     "output_type": "error",
     "traceback": [
      "\u001b[0;31m---------------------------------------------------------------------------\u001b[0m",
      "\u001b[0;31mNameError\u001b[0m                                 Traceback (most recent call last)",
      "Cell \u001b[0;32mIn[14], line 3\u001b[0m\n\u001b[1;32m      1\u001b[0m \u001b[38;5;66;03m# Monthly release patterns\u001b[39;00m\n\u001b[1;32m      2\u001b[0m plt\u001b[38;5;241m.\u001b[39mfigure(figsize\u001b[38;5;241m=\u001b[39m(\u001b[38;5;241m12\u001b[39m, \u001b[38;5;241m6\u001b[39m))\n\u001b[0;32m----> 3\u001b[0m monthly_releases \u001b[38;5;241m=\u001b[39m df\u001b[38;5;241m.\u001b[39mgroupby(\u001b[38;5;124m'\u001b[39m\u001b[38;5;124mmonth_added\u001b[39m\u001b[38;5;124m'\u001b[39m)[\u001b[38;5;124m'\u001b[39m\u001b[38;5;124mtype\u001b[39m\u001b[38;5;124m'\u001b[39m]\u001b[38;5;241m.\u001b[39mcount()\n\u001b[1;32m      4\u001b[0m plt\u001b[38;5;241m.\u001b[39mplot(monthly_releases\u001b[38;5;241m.\u001b[39mindex, monthly_releases\u001b[38;5;241m.\u001b[39mvalues, marker\u001b[38;5;241m=\u001b[39m\u001b[38;5;124m'\u001b[39m\u001b[38;5;124mo\u001b[39m\u001b[38;5;124m'\u001b[39m, linewidth\u001b[38;5;241m=\u001b[39m\u001b[38;5;241m2\u001b[39m, color\u001b[38;5;241m=\u001b[39m\u001b[38;5;124m'\u001b[39m\u001b[38;5;124m#E50914\u001b[39m\u001b[38;5;124m'\u001b[39m)\n\u001b[1;32m      5\u001b[0m plt\u001b[38;5;241m.\u001b[39mtitle(\u001b[38;5;124m'\u001b[39m\u001b[38;5;124mContent Release Pattern by Month\u001b[39m\u001b[38;5;124m'\u001b[39m)\n",
      "\u001b[0;31mNameError\u001b[0m: name 'df' is not defined"
     ]
    },
    {
     "data": {
      "text/plain": [
       "<Figure size 1200x600 with 0 Axes>"
      ]
     },
     "metadata": {},
     "output_type": "display_data"
    }
   ],
   "source": [
    "# Monthly release patterns\n",
    "plt.figure(figsize=(12, 6))\n",
    "monthly_releases = df.groupby('month_added')['type'].count()\n",
    "plt.plot(monthly_releases.index, monthly_releases.values, marker='o', linewidth=2, color='#E50914')\n",
    "plt.title('Content Release Pattern by Month')\n",
    "plt.xlabel('Month')\n",
    "plt.ylabel('Number of Releases')\n",
    "plt.xticks(range(1, 13), ['Jan', 'Feb', 'Mar', 'Apr', 'May', 'Jun', 'Jul', 'Aug', 'Sep', 'Oct', 'Nov', 'Dec'])\n",
    "plt.grid(True, alpha=0.3)\n",
    "plt.show()\n",
    "\n",
    "# Print seasonal insights\n",
    "print(\"\\nRelease Pattern Analysis:\")\n",
    "print(\"-\" * 30)\n",
    "peak_month = monthly_releases.idxmax()\n",
    "print(f\"Peak Release Month: {pd.datetime(2020, peak_month, 1).strftime('%B')} with {monthly_releases.max():,} releases\")"
   ]
  },
  {
   "cell_type": "code",
   "execution_count": 16,
   "id": "e455d35d-893f-4240-bdb8-57221ac66e24",
   "metadata": {},
   "outputs": [
    {
     "ename": "NameError",
     "evalue": "name 'df' is not defined",
     "output_type": "error",
     "traceback": [
      "\u001b[0;31m---------------------------------------------------------------------------\u001b[0m",
      "\u001b[0;31mNameError\u001b[0m                                 Traceback (most recent call last)",
      "Cell \u001b[0;32mIn[16], line 3\u001b[0m\n\u001b[1;32m      1\u001b[0m \u001b[38;5;66;03m# Rating analysis with content type breakdown\u001b[39;00m\n\u001b[1;32m      2\u001b[0m plt\u001b[38;5;241m.\u001b[39mfigure(figsize\u001b[38;5;241m=\u001b[39m(\u001b[38;5;241m12\u001b[39m, \u001b[38;5;241m6\u001b[39m))\n\u001b[0;32m----> 3\u001b[0m rating_by_type \u001b[38;5;241m=\u001b[39m pd\u001b[38;5;241m.\u001b[39mcrosstab(df[\u001b[38;5;124m'\u001b[39m\u001b[38;5;124mrating\u001b[39m\u001b[38;5;124m'\u001b[39m], df[\u001b[38;5;124m'\u001b[39m\u001b[38;5;124mtype\u001b[39m\u001b[38;5;124m'\u001b[39m])\n\u001b[1;32m      4\u001b[0m rating_by_type\u001b[38;5;241m.\u001b[39mplot(kind\u001b[38;5;241m=\u001b[39m\u001b[38;5;124m'\u001b[39m\u001b[38;5;124mbar\u001b[39m\u001b[38;5;124m'\u001b[39m, stacked\u001b[38;5;241m=\u001b[39m\u001b[38;5;28;01mTrue\u001b[39;00m)\n\u001b[1;32m      5\u001b[0m plt\u001b[38;5;241m.\u001b[39mtitle(\u001b[38;5;124m'\u001b[39m\u001b[38;5;124mContent Rating Distribution by Type\u001b[39m\u001b[38;5;124m'\u001b[39m)\n",
      "\u001b[0;31mNameError\u001b[0m: name 'df' is not defined"
     ]
    },
    {
     "data": {
      "text/plain": [
       "<Figure size 1200x600 with 0 Axes>"
      ]
     },
     "metadata": {},
     "output_type": "display_data"
    }
   ],
   "source": [
    "# Rating analysis with content type breakdown\n",
    "plt.figure(figsize=(12, 6))\n",
    "rating_by_type = pd.crosstab(df['rating'], df['type'])\n",
    "rating_by_type.plot(kind='bar', stacked=True)\n",
    "plt.title('Content Rating Distribution by Type')\n",
    "plt.xlabel('Rating')\n",
    "plt.ylabel('Number of Titles')\n",
    "plt.legend(title='Content Type')\n",
    "plt.xticks(rotation=45)\n",
    "plt.show()\n",
    "\n",
    "# Print rating insights\n",
    "print(\"\\nRating Distribution Summary:\")\n",
    "print(\"-\" * 30)\n",
    "top_ratings = df['rating'].value_counts().head(3)\n",
    "print(\"Top 3 Content Ratings:\")\n",
    "for rating, count in top_ratings.items():\n",
    "    print(f\"{rating}: {count:,} titles ({count/len(df)*100:.1f}%)\")"
   ]
  },
  {
   "cell_type": "code",
   "execution_count": 18,
   "id": "a81be8d4-fd54-491a-bcc3-558c11f3962a",
   "metadata": {},
   "outputs": [
    {
     "name": "stdout",
     "output_type": "stream",
     "text": [
      "\n",
      "Netflix Content Analysis Summary\n",
      "========================================\n"
     ]
    },
    {
     "ename": "NameError",
     "evalue": "name 'df' is not defined",
     "output_type": "error",
     "traceback": [
      "\u001b[0;31m---------------------------------------------------------------------------\u001b[0m",
      "\u001b[0;31mNameError\u001b[0m                                 Traceback (most recent call last)",
      "Cell \u001b[0;32mIn[18], line 3\u001b[0m\n\u001b[1;32m      1\u001b[0m \u001b[38;5;28mprint\u001b[39m(\u001b[38;5;124m\"\u001b[39m\u001b[38;5;130;01m\\n\u001b[39;00m\u001b[38;5;124mNetflix Content Analysis Summary\u001b[39m\u001b[38;5;124m\"\u001b[39m)\n\u001b[1;32m      2\u001b[0m \u001b[38;5;28mprint\u001b[39m(\u001b[38;5;124m\"\u001b[39m\u001b[38;5;124m=\u001b[39m\u001b[38;5;124m\"\u001b[39m \u001b[38;5;241m*\u001b[39m \u001b[38;5;241m40\u001b[39m)\n\u001b[0;32m----> 3\u001b[0m \u001b[38;5;28mprint\u001b[39m(\u001b[38;5;124mf\u001b[39m\u001b[38;5;124m\"\u001b[39m\u001b[38;5;124mTotal Titles: \u001b[39m\u001b[38;5;132;01m{\u001b[39;00m\u001b[38;5;28mlen\u001b[39m(df)\u001b[38;5;132;01m:\u001b[39;00m\u001b[38;5;124m,\u001b[39m\u001b[38;5;132;01m}\u001b[39;00m\u001b[38;5;124m\"\u001b[39m)\n\u001b[1;32m      4\u001b[0m \u001b[38;5;28mprint\u001b[39m(\u001b[38;5;124mf\u001b[39m\u001b[38;5;124m\"\u001b[39m\u001b[38;5;124mTime Period: \u001b[39m\u001b[38;5;132;01m{\u001b[39;00mdf[\u001b[38;5;124m'\u001b[39m\u001b[38;5;124myear_added\u001b[39m\u001b[38;5;124m'\u001b[39m]\u001b[38;5;241m.\u001b[39mmin()\u001b[38;5;132;01m}\u001b[39;00m\u001b[38;5;124m to \u001b[39m\u001b[38;5;132;01m{\u001b[39;00mdf[\u001b[38;5;124m'\u001b[39m\u001b[38;5;124myear_added\u001b[39m\u001b[38;5;124m'\u001b[39m]\u001b[38;5;241m.\u001b[39mmax()\u001b[38;5;132;01m}\u001b[39;00m\u001b[38;5;124m\"\u001b[39m)\n\u001b[1;32m      5\u001b[0m \u001b[38;5;28mprint\u001b[39m(\u001b[38;5;124mf\u001b[39m\u001b[38;5;124m\"\u001b[39m\u001b[38;5;124mNumber of Countries: \u001b[39m\u001b[38;5;132;01m{\u001b[39;00mdf[\u001b[38;5;124m'\u001b[39m\u001b[38;5;124mprimary_country\u001b[39m\u001b[38;5;124m'\u001b[39m]\u001b[38;5;241m.\u001b[39mnunique()\u001b[38;5;132;01m:\u001b[39;00m\u001b[38;5;124m,\u001b[39m\u001b[38;5;132;01m}\u001b[39;00m\u001b[38;5;124m\"\u001b[39m)\n",
      "\u001b[0;31mNameError\u001b[0m: name 'df' is not defined"
     ]
    }
   ],
   "source": [
    "print(\"\\nNetflix Content Analysis Summary\")\n",
    "print(\"=\" * 40)\n",
    "print(f\"Total Titles: {len(df):,}\")\n",
    "print(f\"Time Period: {df['year_added'].min()} to {df['year_added'].max()}\")\n",
    "print(f\"Number of Countries: {df['primary_country'].nunique():,}\")\n",
    "print(f\"Number of Genres: {genres.nunique():,}\")\n",
    "print(f\"Content Added in Last Year: {len(df[df['year_added'] == df['year_added'].max()]):,}\")"
   ]
  },
  {
   "cell_type": "code",
   "execution_count": 20,
   "id": "cf587c12-4d87-4e16-9795-a5d635340919",
   "metadata": {},
   "outputs": [],
   "source": [
    "# Netflix brand colors and custom style setup\n",
    "NETFLIX_COLORS = {\n",
    "    'red': '#E50914',\n",
    "    'black': '#221F1F',\n",
    "    'grey': '#F5F5F1',\n",
    "    'dark_grey': '#4A4A4A'\n",
    "}\n",
    "\n",
    "# Custom style function\n",
    "def netflix_style():\n",
    "    plt.style.use('dark_background')\n",
    "    plt.rcParams['figure.facecolor'] = NETFLIX_COLORS['black']\n",
    "    plt.rcParams['axes.facecolor'] = NETFLIX_COLORS['black']\n",
    "    plt.rcParams['text.color'] = NETFLIX_COLORS['grey']\n",
    "    plt.rcParams['axes.labelcolor'] = NETFLIX_COLORS['grey']\n",
    "    plt.rcParams['xtick.color'] = NETFLIX_COLORS['grey']\n",
    "    plt.rcParams['ytick.color'] = NETFLIX_COLORS['grey']"
   ]
  },
  {
   "cell_type": "code",
   "execution_count": 22,
   "id": "533e1e4c-9f0e-4380-a268-9a97e8f0689e",
   "metadata": {},
   "outputs": [],
   "source": [
    "def create_netflix_dashboard():\n",
    "    netflix_style()\n",
    "    fig = plt.figure(figsize=(20, 12))\n",
    "    \n",
    "    # Content Growth Over Time with Monthly Pattern\n",
    "    ax1 = plt.subplot2grid((2, 3), (0, 0), colspan=2)\n",
    "    yearly_data = df.groupby(['year_added', 'type']).size().unstack()\n",
    "    yearly_data.plot(kind='area', stacked=True, ax=ax1, \n",
    "                    color=[NETFLIX_COLORS['red'], NETFLIX_COLORS['grey']], alpha=0.7)\n",
    "    ax1.set_title('Netflix Content Growth', fontsize=14, pad=20)\n",
    "    ax1.grid(color=NETFLIX_COLORS['dark_grey'], linestyle='--', alpha=0.2)\n",
    "    \n",
    "    # Genre Distribution (Circular)\n",
    "    ax2 = plt.subplot2grid((2, 3), (0, 2))\n",
    "    genres = df['listed_in'].str.split(',', expand=True).stack().str.strip()\n",
    "    genre_counts = genres.value_counts().head(5)\n",
    "    ax2.pie(genre_counts, labels=genre_counts.index, autopct='%1.1f%%', \n",
    "            colors=sns.color_palette(\"Reds\", n_colors=5))\n",
    "    ax2.set_title('Top 5 Genres', fontsize=14, pad=20)\n",
    "    \n",
    "    # Content Duration Analysis\n",
    "    ax3 = plt.subplot2grid((2, 3), (1, 0))\n",
    "    movies = df[df['type'] == 'Movie']\n",
    "    movie_duration = movies['duration'].str.extract('(\\d+)').astype(float)\n",
    "    ax3.hist(movie_duration, bins=30, color=NETFLIX_COLORS['red'], alpha=0.7)\n",
    "    ax3.set_title('Movie Duration Distribution', fontsize=14, pad=20)\n",
    "    \n",
    "    # Rating Distribution\n",
    "    ax4 = plt.subplot2grid((2, 3), (1, 1))\n",
    "    rating_counts = df['rating'].value_counts().head(6)\n",
    "    ax4.bar(rating_counts.index, rating_counts.values, color=NETFLIX_COLORS['red'])\n",
    "    ax4.set_title('Content Rating Distribution', fontsize=14, pad=20)\n",
    "    plt.xticks(rotation=45)\n",
    "    \n",
    "    # Geographic Heat Map\n",
    "    ax5 = plt.subp"
   ]
  },
  {
   "cell_type": "code",
   "execution_count": 24,
   "id": "a43589f0-bdc3-4443-9bca-964214ded842",
   "metadata": {},
   "outputs": [],
   "source": [
    "def content_release_strategy():\n",
    "    netflix_style()\n",
    "    fig, ax = plt.subplots(figsize=(15, 8))\n",
    "    \n",
    "    # Create monthly release patterns by type\n",
    "    monthly_by_type = df.pivot_table(\n",
    "        index='month_added',\n",
    "        columns='type',\n",
    "        values='show_id',\n",
    "        aggfunc='count'\n",
    "    ).fillna(0)\n",
    "    \n",
    "    # Create radar chart\n",
    "    angles = np.linspace(0, 2*np.pi, 12, endpoint=False)\n",
    "    angles = np.concatenate((angles, [angles[0]]))  # complete the circle\n",
    "    \n",
    "    # Close the plot\n",
    "    monthly_by_type_closed = monthly_by_type.copy()\n",
    "    monthly_by_type_closed.loc[13] = monthly_by_type_closed.loc[1]\n",
    "    \n",
    "    # Plot\n",
    "    ax = plt.subplot(111, projection='polar')\n",
    "    ax.plot(angles, monthly_by_type_closed['Movie'], 'o-', \n",
    "            linewidth=2, label='Movies', color=NETFLIX_COLORS['red'])\n",
    "    ax.fill(angles, monthly_by_type_closed['Movie'], \n",
    "            alpha=0.25, color=NETFLIX_COLORS['red'])\n",
    "    ax.plot(angles, monthly_by_type_closed['TV Show'], 'o-', \n",
    "            linewidth=2, label='TV Shows', color=NETFLIX_COLORS['grey'])\n",
    "    ax.fill(angles, monthly_by_type_closed['TV Show'], \n",
    "            alpha=0.25, color=NETFLIX_COLORS['grey'])\n",
    "    \n",
    "    ax.set_xticks(angles[:-1])\n",
    "    ax.set_xticklabels(['Jan', 'Feb', 'Mar', 'Apr', 'May', 'Jun', \n",
    "                        'Jul', 'Aug', 'Sep', 'Oct', 'Nov', 'Dec'])\n",
    "    ax.set_title('Content Release Strategy Throughout the Year', \n",
    "                 pad=20, color=NETFLIX_COLORS['red'])\n",
    "    ax.legend(loc='upper right', bbox_to_anchor=(0.1, 0.1))\n",
    "    \n",
    "    return fig"
   ]
  },
  {
   "cell_type": "code",
   "execution_count": 26,
   "id": "8746bda8-b917-43f9-8534-d249a4bc616e",
   "metadata": {},
   "outputs": [],
   "source": [
    "def analyze_content_trends():\n",
    "    \"\"\"Analyze content trends over time with unique metrics\"\"\"\n",
    "    # Calculate content diversity score\n",
    "    df['release_recency'] = df['release_year'].max() - df['release_year']\n",
    "    df['content_score'] = df.groupby('type')['release_recency'].transform(\n",
    "        lambda x: 1 - (x - x.min()) / (x.max() - x.min())\n",
    "    )\n",
    "    \n",
    "    print(\"\\nNETFLIX CONTENT STRATEGY INSIGHTS\")\n",
    "    print(\"=\" * 40)\n",
    "    print(f\"\\n1. Content Balance\")\n",
    "    print(f\"   Movies to TV Shows Ratio: {len(df[df['type']=='Movie'])/len(df[df['type']=='TV Show']):.2f}\")\n",
    "    \n",
    "    print(f\"\\n2. Geographic Diversity\")\n",
    "    print(f\"   Number of Countries: {df['primary_country'].nunique()}\")\n",
    "    print(f\"   International Content: {len(df[df['primary_country']!='United States'])/len(df)*100:.1f}%\")\n",
    "    \n",
    "    print(f\"\\n3. Content Freshness\")\n",
    "    print(f\"   Average Content Age: {df['release_recency'].mean():.1f} years\")\n",
    "    print(f\"   New Releases (Last 2 Years): {len(df[df['release_recency'] <= 2])/len(df)*100:.1f}%\")\n",
    "    \n",
    "    return None"
   ]
  }
 ],
 "metadata": {
  "kernelspec": {
   "display_name": "Python 3 (ipykernel)",
   "language": "python",
   "name": "python3"
  },
  "language_info": {
   "codemirror_mode": {
    "name": "ipython",
    "version": 3
   },
   "file_extension": ".py",
   "mimetype": "text/x-python",
   "name": "python",
   "nbconvert_exporter": "python",
   "pygments_lexer": "ipython3",
   "version": "3.11.8"
  }
 },
 "nbformat": 4,
 "nbformat_minor": 5
}
